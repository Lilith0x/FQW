{
 "cells": [
  {
   "cell_type": "code",
   "execution_count": 1,
   "metadata": {},
   "outputs": [],
   "source": [
    "import pandas as pd\n",
    "import tensorflow as tf\n",
    "import keras\n",
    "import re\n",
    "import numpy as np\n",
    "import pickle\n",
    "import json\n",
    "import torch\n",
    "\n",
    "from sklearn.model_selection import train_test_split\n",
    "\n",
    "from sklearn.preprocessing import OneHotEncoder,LabelEncoder\n",
    "\n",
    "import matplotlib.pyplot as plt\n",
    "from keras.preprocessing.text import Tokenizer\n",
    "from tensorflow.keras.preprocessing.sequence import pad_sequences\n",
    "\n",
    "from keras.layers import GlobalMaxPooling1D\n",
    "from keras.layers import Conv1D, MaxPooling1D, Flatten\n",
    "from keras.models import Model\n",
    "\n",
    "from tensorflow.keras.models import Sequential\n",
    "from tensorflow.keras.layers import Dense, Input, Dropout, LSTM, Activation, Embedding"
   ]
  },
  {
   "cell_type": "code",
   "execution_count": 2,
   "metadata": {},
   "outputs": [],
   "source": [
    "commands = pd.read_csv('command_intents1.csv')"
   ]
  },
  {
   "cell_type": "code",
   "execution_count": 3,
   "metadata": {},
   "outputs": [
    {
     "name": "stdout",
     "output_type": "stream",
     "text": [
      "                                            text  label\n",
      "0                                         Привет     11\n",
      "1                                     здравствуй     11\n",
      "2                                   Здравствуйте     11\n",
      "3                                    добрый День     11\n",
      "4                                   добрый вечер     11\n",
      "..                                           ...    ...\n",
      "224                   врыфолв пвапаисмл рвфыовфы     -1\n",
      "225               выф павлжд врлвфыть мсчбьраыво     -1\n",
      "226  взфыщ вщхсоярлы врплраво вфыовлыофвдть тьбф     -1\n",
      "227                         воыфлв игмшсщьббйцро     -1\n",
      "228                   выф птаволь ыфвдь пав воыд     -1\n",
      "\n",
      "[229 rows x 2 columns]\n"
     ]
    }
   ],
   "source": [
    "commands.columns = ['text','label']\n",
    "print(commands)"
   ]
  },
  {
   "cell_type": "code",
   "execution_count": 4,
   "metadata": {},
   "outputs": [
    {
     "data": {
      "text/plain": [
       "0          Привет\n",
       "1      здравствуй\n",
       "2    Здравствуйте\n",
       "3     добрый День\n",
       "4    добрый вечер\n",
       "Name: text, dtype: object"
      ]
     },
     "execution_count": 4,
     "metadata": {},
     "output_type": "execute_result"
    }
   ],
   "source": [
    "commands['text'].head()"
   ]
  },
  {
   "cell_type": "code",
   "execution_count": 5,
   "metadata": {},
   "outputs": [],
   "source": [
    "def clear_text(text):\n",
    "   text = text.lower()\n",
    "   text = re.sub(r'[^а-яА-ЯёЁ ]', ' ', text) \n",
    "   text = ' '.join(text.split())\n",
    "   return text"
   ]
  },
  {
   "cell_type": "code",
   "execution_count": 6,
   "metadata": {},
   "outputs": [],
   "source": [
    "commands['text'] = commands['text'].apply(clear_text) "
   ]
  },
  {
   "cell_type": "code",
   "execution_count": 7,
   "metadata": {},
   "outputs": [
    {
     "name": "stdout",
     "output_type": "stream",
     "text": [
      "                                            text  label\n",
      "0                                         привет     11\n",
      "1                                     здравствуй     11\n",
      "2                                   здравствуйте     11\n",
      "3                                    добрый день     11\n",
      "4                                   добрый вечер     11\n",
      "..                                           ...    ...\n",
      "224                   врыфолв пвапаисмл рвфыовфы     -1\n",
      "225               выф павлжд врлвфыть мсчбьраыво     -1\n",
      "226  взфыщ вщхсоярлы врплраво вфыовлыофвдть тьбф     -1\n",
      "227                         воыфлв игмшсщьббйцро     -1\n",
      "228                   выф птаволь ыфвдь пав воыд     -1\n",
      "\n",
      "[229 rows x 2 columns]\n"
     ]
    }
   ],
   "source": [
    "print(commands)"
   ]
  },
  {
   "cell_type": "code",
   "execution_count": 8,
   "metadata": {},
   "outputs": [
    {
     "data": {
      "text/plain": [
       " 11    30\n",
       " 1     22\n",
       " 6     22\n",
       " 2     21\n",
       " 4     21\n",
       " 3     18\n",
       " 12    17\n",
       " 7     17\n",
       " 5     15\n",
       " 0     14\n",
       " 10    10\n",
       "-1      8\n",
       " 9      7\n",
       " 8      7\n",
       "Name: label, dtype: int64"
      ]
     },
     "execution_count": 8,
     "metadata": {},
     "output_type": "execute_result"
    }
   ],
   "source": [
    "commands['label'].value_counts()"
   ]
  },
  {
   "cell_type": "code",
   "execution_count": 9,
   "metadata": {},
   "outputs": [],
   "source": [
    "def balance_data(df_patterns):\n",
    "    df_intent = df_patterns['label']\n",
    "    max_counts = df_intent.value_counts().max() # максимальное число элементов в классе\n",
    "    \n",
    "    new_df = df_patterns.copy()\n",
    "    for i in df_intent.unique():\n",
    "        i_count = int(df_intent[df_intent == i].value_counts())\n",
    "        if i_count < max_counts:\n",
    "            i_samples = df_patterns[df_intent == i].sample(max_counts - i_count, replace = True, ignore_index = True)\n",
    "            new_df = pd.concat([new_df, i_samples])\n",
    "    return new_df"
   ]
  },
  {
   "cell_type": "code",
   "execution_count": 10,
   "metadata": {},
   "outputs": [],
   "source": [
    "commands = balance_data(commands)"
   ]
  },
  {
   "cell_type": "code",
   "execution_count": 11,
   "metadata": {},
   "outputs": [
    {
     "data": {
      "text/plain": [
       " 11    30\n",
       " 12    30\n",
       " 7     30\n",
       " 2     30\n",
       " 3     30\n",
       " 1     30\n",
       " 4     30\n",
       " 5     30\n",
       " 6     30\n",
       " 9     30\n",
       " 8     30\n",
       " 10    30\n",
       " 0     30\n",
       "-1     30\n",
       "Name: label, dtype: int64"
      ]
     },
     "execution_count": 11,
     "metadata": {},
     "output_type": "execute_result"
    }
   ],
   "source": [
    "commands['label'].value_counts()"
   ]
  },
  {
   "cell_type": "code",
   "execution_count": 12,
   "metadata": {},
   "outputs": [],
   "source": [
    "data = commands['text']\n",
    "labels = commands['label']"
   ]
  },
  {
   "cell_type": "code",
   "execution_count": 13,
   "metadata": {},
   "outputs": [],
   "source": [
    "train_txt, test_txt, train_label, test_label = train_test_split(data, labels, test_size = 0.1)"
   ]
  },
  {
   "cell_type": "code",
   "execution_count": 14,
   "metadata": {},
   "outputs": [
    {
     "name": "stdout",
     "output_type": "stream",
     "text": [
      "Found 192 unique tokens.\n"
     ]
    }
   ],
   "source": [
    "MAX_NUM_WORDS = 5000\n",
    "EMBEDDING_DIM = 60\n",
    "MAXLEN = 10\n",
    "classes = np.unique(labels)\n",
    "\n",
    "tokenizer = Tokenizer(num_words = MAX_NUM_WORDS)\n",
    "tokenizer.fit_on_texts(train_txt)\n",
    "\n",
    "train_sequences = tokenizer.texts_to_sequences(train_txt)\n",
    "train_sequences = pad_sequences(train_sequences, maxlen = MAXLEN, padding='post')\n",
    "test_sequences = tokenizer.texts_to_sequences(test_txt)\n",
    "test_sequences = pad_sequences(test_sequences, maxlen = MAXLEN, padding='post')\n",
    "\n",
    "word_index = tokenizer.word_index\n",
    "print('Found %s unique tokens.' % len(word_index))\n",
    "\n",
    "num_words = min(MAX_NUM_WORDS, len(word_index)) + 1"
   ]
  },
  {
   "cell_type": "code",
   "execution_count": null,
   "metadata": {},
   "outputs": [],
   "source": []
  },
  {
   "cell_type": "code",
   "execution_count": 15,
   "metadata": {},
   "outputs": [
    {
     "data": {
      "text/plain": [
       "OneHotEncoder(sparse=False)"
      ]
     },
     "execution_count": 15,
     "metadata": {},
     "output_type": "execute_result"
    }
   ],
   "source": [
    "label_encoder = LabelEncoder()\n",
    "integer_encoded = label_encoder.fit_transform(classes)\n",
    "\n",
    "onehot_encoder = OneHotEncoder(sparse=False)\n",
    "integer_encoded = integer_encoded.reshape(len(integer_encoded), 1)\n",
    "onehot_encoder.fit(integer_encoded)"
   ]
  },
  {
   "cell_type": "code",
   "execution_count": 16,
   "metadata": {},
   "outputs": [],
   "source": [
    "train_label_encoded = label_encoder.transform(train_label)\n",
    "train_label_encoded = train_label_encoded.reshape(len(train_label_encoded), 1)\n",
    "train_label = onehot_encoder.transform(train_label_encoded)"
   ]
  },
  {
   "cell_type": "code",
   "execution_count": 17,
   "metadata": {},
   "outputs": [],
   "source": [
    "test_label_encoded = label_encoder.transform(test_label)\n",
    "test_label_encoded = test_label_encoded.reshape(len(test_label_encoded), 1)\n",
    "test_label = onehot_encoder.transform(test_label_encoded)"
   ]
  },
  {
   "cell_type": "code",
   "execution_count": 18,
   "metadata": {},
   "outputs": [
    {
     "name": "stdout",
     "output_type": "stream",
     "text": [
      "(42, 10)\n"
     ]
    }
   ],
   "source": [
    "print(test_sequences.shape)"
   ]
  },
  {
   "cell_type": "code",
   "execution_count": 19,
   "metadata": {},
   "outputs": [
    {
     "name": "stdout",
     "output_type": "stream",
     "text": [
      "(42, 14)\n"
     ]
    }
   ],
   "source": [
    "print(test_label.shape)"
   ]
  },
  {
   "cell_type": "code",
   "execution_count": 20,
   "metadata": {},
   "outputs": [
    {
     "name": "stdout",
     "output_type": "stream",
     "text": [
      "Model: \"sequential\"\n",
      "_________________________________________________________________\n",
      " Layer (type)                Output Shape              Param #   \n",
      "=================================================================\n",
      " embedding (Embedding)       (None, 10, 60)            11580     \n",
      "                                                                 \n",
      " dropout (Dropout)           (None, 10, 60)            0         \n",
      "                                                                 \n",
      " lstm (LSTM)                 (None, 256)               324608    \n",
      "                                                                 \n",
      " dropout_1 (Dropout)         (None, 256)               0         \n",
      "                                                                 \n",
      " dense (Dense)               (None, 50)                12850     \n",
      "                                                                 \n",
      " dropout_2 (Dropout)         (None, 50)                0         \n",
      "                                                                 \n",
      " dense_1 (Dense)             (None, 14)                714       \n",
      "                                                                 \n",
      "=================================================================\n",
      "Total params: 349,752\n",
      "Trainable params: 349,752\n",
      "Non-trainable params: 0\n",
      "_________________________________________________________________\n"
     ]
    }
   ],
   "source": [
    "model = Sequential()\n",
    "\n",
    "model.add(Embedding(num_words, EMBEDDING_DIM, input_length = train_sequences.shape[1], trainable=True))\n",
    "model.add(Dropout(0.3))\n",
    "model.add(LSTM(256, return_sequences = False, recurrent_dropout=0.1, dropout=0.1))\n",
    "model.add(Dropout(0.3))\n",
    "model.add(Dense(50, activation = 'relu'))\n",
    "model.add(Dropout(0.3))\n",
    "model.add(Dense(classes.shape[0], activation = 'softmax'))\n",
    "model.summary()"
   ]
  },
  {
   "cell_type": "code",
   "execution_count": 21,
   "metadata": {},
   "outputs": [],
   "source": [
    "model.compile(loss='categorical_crossentropy', optimizer='adam', metrics=['acc'])"
   ]
  },
  {
   "cell_type": "code",
   "execution_count": 22,
   "metadata": {},
   "outputs": [
    {
     "name": "stdout",
     "output_type": "stream",
     "text": [
      "Epoch 1/30\n",
      "8/8 [==============================] - 6s 125ms/step - loss: 2.6415 - acc: 0.0714 - val_loss: 2.6389 - val_acc: 0.0714\n",
      "Epoch 2/30\n",
      "8/8 [==============================] - 1s 65ms/step - loss: 2.6400 - acc: 0.0661 - val_loss: 2.6403 - val_acc: 0.0714\n",
      "Epoch 3/30\n",
      "8/8 [==============================] - 0s 62ms/step - loss: 2.6371 - acc: 0.0979 - val_loss: 2.6432 - val_acc: 0.0714\n",
      "Epoch 4/30\n",
      "8/8 [==============================] - 1s 66ms/step - loss: 2.6326 - acc: 0.0873 - val_loss: 2.6398 - val_acc: 0.1190\n",
      "Epoch 5/30\n",
      "8/8 [==============================] - 1s 80ms/step - loss: 2.6183 - acc: 0.1005 - val_loss: 2.5968 - val_acc: 0.1190\n",
      "Epoch 6/30\n",
      "8/8 [==============================] - 1s 66ms/step - loss: 2.4726 - acc: 0.1481 - val_loss: 2.3747 - val_acc: 0.1429\n",
      "Epoch 7/30\n",
      "8/8 [==============================] - 0s 61ms/step - loss: 2.2594 - acc: 0.1561 - val_loss: 2.2283 - val_acc: 0.3810\n",
      "Epoch 8/30\n",
      "8/8 [==============================] - 1s 65ms/step - loss: 2.1191 - acc: 0.2434 - val_loss: 2.0949 - val_acc: 0.4048\n",
      "Epoch 9/30\n",
      "8/8 [==============================] - 1s 64ms/step - loss: 1.8780 - acc: 0.3466 - val_loss: 1.7783 - val_acc: 0.4048\n",
      "Epoch 10/30\n",
      "8/8 [==============================] - 1s 67ms/step - loss: 1.5764 - acc: 0.3995 - val_loss: 1.5179 - val_acc: 0.5238\n",
      "Epoch 11/30\n",
      "8/8 [==============================] - 1s 68ms/step - loss: 1.4193 - acc: 0.4656 - val_loss: 1.1517 - val_acc: 0.4762\n",
      "Epoch 12/30\n",
      "8/8 [==============================] - 1s 94ms/step - loss: 1.1635 - acc: 0.5476 - val_loss: 0.8758 - val_acc: 0.6667\n",
      "Epoch 13/30\n",
      "8/8 [==============================] - 1s 100ms/step - loss: 0.9509 - acc: 0.6455 - val_loss: 0.6791 - val_acc: 0.7381\n",
      "Epoch 14/30\n",
      "8/8 [==============================] - 1s 73ms/step - loss: 0.8357 - acc: 0.6481 - val_loss: 0.8485 - val_acc: 0.5952\n",
      "Epoch 15/30\n",
      "8/8 [==============================] - 1s 66ms/step - loss: 0.7800 - acc: 0.6905 - val_loss: 0.6143 - val_acc: 0.7381\n",
      "Epoch 16/30\n",
      "8/8 [==============================] - 1s 73ms/step - loss: 0.7022 - acc: 0.7566 - val_loss: 0.5976 - val_acc: 0.7619\n",
      "Epoch 17/30\n",
      "8/8 [==============================] - 1s 69ms/step - loss: 0.5955 - acc: 0.7989 - val_loss: 0.5556 - val_acc: 0.6905\n",
      "Epoch 18/30\n",
      "8/8 [==============================] - 1s 72ms/step - loss: 0.6544 - acc: 0.7646 - val_loss: 0.4101 - val_acc: 0.8095\n",
      "Epoch 19/30\n",
      "8/8 [==============================] - 1s 99ms/step - loss: 0.4589 - acc: 0.8280 - val_loss: 0.3257 - val_acc: 0.9286\n",
      "Epoch 20/30\n",
      "8/8 [==============================] - 1s 84ms/step - loss: 0.4251 - acc: 0.8280 - val_loss: 0.3383 - val_acc: 0.8810\n",
      "Epoch 21/30\n",
      "8/8 [==============================] - 1s 67ms/step - loss: 0.3759 - acc: 0.8677 - val_loss: 0.2846 - val_acc: 0.9286\n",
      "Epoch 22/30\n",
      "8/8 [==============================] - 1s 64ms/step - loss: 0.3583 - acc: 0.8571 - val_loss: 0.2210 - val_acc: 0.9286\n",
      "Epoch 23/30\n",
      "8/8 [==============================] - 1s 66ms/step - loss: 0.3240 - acc: 0.8836 - val_loss: 0.3932 - val_acc: 0.8810\n",
      "Epoch 24/30\n",
      "8/8 [==============================] - 1s 66ms/step - loss: 0.2126 - acc: 0.9524 - val_loss: 0.1999 - val_acc: 0.9762\n",
      "Epoch 25/30\n",
      "8/8 [==============================] - 1s 82ms/step - loss: 0.2074 - acc: 0.9550 - val_loss: 0.1729 - val_acc: 0.9762\n",
      "Epoch 26/30\n",
      "8/8 [==============================] - 1s 103ms/step - loss: 0.2039 - acc: 0.9365 - val_loss: 0.2282 - val_acc: 0.9524\n",
      "Epoch 27/30\n",
      "8/8 [==============================] - 1s 66ms/step - loss: 0.2510 - acc: 0.9206 - val_loss: 0.1663 - val_acc: 0.9762\n",
      "Epoch 28/30\n",
      "8/8 [==============================] - 1s 66ms/step - loss: 0.1738 - acc: 0.9471 - val_loss: 0.2302 - val_acc: 0.9286\n",
      "Epoch 29/30\n",
      "8/8 [==============================] - 1s 64ms/step - loss: 0.1629 - acc: 0.9577 - val_loss: 0.4346 - val_acc: 0.8810\n",
      "Epoch 30/30\n",
      "8/8 [==============================] - 1s 67ms/step - loss: 0.2314 - acc: 0.9259 - val_loss: 0.1760 - val_acc: 0.9762\n"
     ]
    }
   ],
   "source": [
    "history = model.fit(train_sequences, train_label, epochs = 30,\n",
    "          batch_size = 50, shuffle=True,\n",
    "          validation_data=[test_sequences, test_label])"
   ]
  },
  {
   "cell_type": "code",
   "execution_count": 23,
   "metadata": {},
   "outputs": [],
   "source": [
    "%matplotlib inline"
   ]
  },
  {
   "cell_type": "code",
   "execution_count": 24,
   "metadata": {},
   "outputs": [
    {
     "name": "stdout",
     "output_type": "stream",
     "text": [
      "2/2 [==============================] - 0s 11ms/step - loss: 0.1760 - acc: 0.9762\n"
     ]
    },
    {
     "data": {
      "text/plain": [
       "[0.17596523463726044, 0.976190447807312]"
      ]
     },
     "execution_count": 24,
     "metadata": {},
     "output_type": "execute_result"
    }
   ],
   "source": [
    "model.evaluate(test_sequences, test_label)"
   ]
  },
  {
   "cell_type": "code",
   "execution_count": 25,
   "metadata": {},
   "outputs": [
    {
     "data": {
      "image/png": "[encoded data removed]",
      "text/plain": [
       "<Figure size 432x288 with 1 Axes>"
      ]
     },
     "metadata": {
      "needs_background": "light"
     },
     "output_type": "display_data"
    }
   ],
   "source": [
    "plt.plot(history.history['acc'])\n",
    "plt.plot(history.history['val_acc'])\n",
    "plt.title('Функция точности')\n",
    "plt.ylabel('Точность')\n",
    "plt.xlabel('Эпоха')\n",
    "plt.legend(['Обучающая', 'Тестовая'], loc='upper left')\n",
    "plt.show()"
   ]
  },
  {
   "cell_type": "code",
   "execution_count": 26,
   "metadata": {},
   "outputs": [
    {
     "data": {
      "image/png": "[encoded data removed]",
      "text/plain": [
       "<Figure size 432x288 with 1 Axes>"
      ]
     },
     "metadata": {
      "needs_background": "light"
     },
     "output_type": "display_data"
    }
   ],
   "source": [
    "plt.plot(history.history['loss'])\n",
    "plt.plot(history.history['val_loss'])\n",
    "plt.title('Функция потерь')\n",
    "plt.ylabel('Потеря')\n",
    "plt.xlabel('Эпоха')\n",
    "plt.legend(['Обучающая', 'Тестовая'], loc='lower left')\n",
    "plt.show()"
   ]
  },
  {
   "cell_type": "code",
   "execution_count": 27,
   "metadata": {},
   "outputs": [],
   "source": [
    "model.save('intents.h5')\n",
    "\n",
    "with open('classes_CNN.pkl','wb') as file:\n",
    "   pickle.dump(classes,file)\n",
    "\n",
    "with open('tokenizer_CNN.pkl','wb') as file:\n",
    "   pickle.dump(tokenizer,file)\n",
    "\n",
    "with open('label_encoder_CNN.pkl','wb') as file:\n",
    "   pickle.dump(label_encoder,file)"
   ]
  },
  {
   "cell_type": "code",
   "execution_count": 28,
   "metadata": {},
   "outputs": [],
   "source": [
    "class IntentClassifier:\n",
    "    def __init__(self,classes,model,tokenizer,label_encoder):\n",
    "        self.classes = classes\n",
    "        self.classifier = model\n",
    "        self.tokenizer = tokenizer\n",
    "        self.label_encoder = label_encoder\n",
    "\n",
    "    def get_intent(self,text):\n",
    "        self.text = [text]\n",
    "        self.test_keras = self.tokenizer.texts_to_sequences(self.text)\n",
    "        self.test_keras_sequence = pad_sequences(self.test_keras, maxlen=16, padding='post')\n",
    "        self.pred = self.classifier.predict(self.test_keras_sequence)\n",
    "        return label_encoder.inverse_transform(np.argmax(self.pred,1))[0]"
   ]
  },
  {
   "cell_type": "code",
   "execution_count": 29,
   "metadata": {},
   "outputs": [],
   "source": [
    "import pickle\n",
    "\n",
    "from tensorflow.python.keras.models import load_model\n",
    "\n",
    "model = load_model('intents.h5')\n",
    "\n",
    "with open('classes_CNN.pkl','rb') as file:\n",
    "  classes = pickle.load(file)\n",
    "\n",
    "with open('tokenizer_CNN.pkl','rb') as file:\n",
    "  tokenizer = pickle.load(file)\n",
    "\n",
    "with open('label_encoder_CNN.pkl','rb') as file:\n",
    "  label_encoder = pickle.load(file)"
   ]
  },
  {
   "cell_type": "code",
   "execution_count": 30,
   "metadata": {},
   "outputs": [],
   "source": [
    "nlu = IntentClassifier(classes, model, tokenizer, label_encoder)"
   ]
  },
  {
   "cell_type": "code",
   "execution_count": 31,
   "metadata": {},
   "outputs": [
    {
     "name": "stdout",
     "output_type": "stream",
     "text": [
      "WARNING:tensorflow:Model was constructed with shape (None, 10) for input KerasTensor(type_spec=TensorSpec(shape=(None, 10), dtype=tf.float32, name='embedding_input'), name='embedding_input', description=\"created by layer 'embedding_input'\"), but it was called on an input with incompatible shape (None, 16).\n"
     ]
    },
    {
     "data": {
      "text/plain": [
       "6"
      ]
     },
     "execution_count": 31,
     "metadata": {},
     "output_type": "execute_result"
    }
   ],
   "source": [
    "nlu.get_intent(\"градус\")"
   ]
  },
  {
   "cell_type": "code",
   "execution_count": 32,
   "metadata": {},
   "outputs": [
    {
     "data": {
      "text/plain": [
       "2"
      ]
     },
     "execution_count": 32,
     "metadata": {},
     "output_type": "execute_result"
    }
   ],
   "source": [
    "nlu.get_intent(\"время\")\n"
   ]
  },
  {
   "cell_type": "code",
   "execution_count": 34,
   "metadata": {},
   "outputs": [
    {
     "data": {
      "text/plain": [
       "3"
      ]
     },
     "execution_count": 34,
     "metadata": {},
     "output_type": "execute_result"
    }
   ],
   "source": [
    "nlu.get_intent(\"браузер\")\n"
   ]
  },
  {
   "cell_type": "code",
   "execution_count": 35,
   "metadata": {},
   "outputs": [
    {
     "data": {
      "text/plain": [
       "4"
      ]
     },
     "execution_count": 35,
     "metadata": {},
     "output_type": "execute_result"
    }
   ],
   "source": [
    "nlu.get_intent(\"система\")"
   ]
  },
  {
   "cell_type": "code",
   "execution_count": 36,
   "metadata": {},
   "outputs": [
    {
     "data": {
      "text/plain": [
       "1"
      ]
     },
     "execution_count": 36,
     "metadata": {},
     "output_type": "execute_result"
    }
   ],
   "source": [
    "nlu.get_intent(\"команды\")"
   ]
  },
  {
   "cell_type": "code",
   "execution_count": null,
   "metadata": {},
   "outputs": [],
   "source": []
  }
 ],
 "metadata": {
  "kernelspec": {
   "display_name": "Python 3",
   "language": "python",
   "name": "python3"
  },
  "language_info": {
   "codemirror_mode": {
    "name": "ipython",
    "version": 3
   },
   "file_extension": ".py",
   "mimetype": "text/x-python",
   "name": "python",
   "nbconvert_exporter": "python",
   "pygments_lexer": "ipython3",
   "version": "3.7.4"
  }
 },
 "nbformat": 4,
 "nbformat_minor": 4
}
